{
 "cells": [
  {
   "cell_type": "markdown",
   "id": "a8a6661a",
   "metadata": {},
   "source": [
    "### 타입 변경\n",
    "\n",
    "- int : int(a)\n",
    "- string : str(a)"
   ]
  },
  {
   "cell_type": "code",
   "execution_count": 6,
   "id": "8c8ab596",
   "metadata": {},
   "outputs": [
    {
     "name": "stdout",
     "output_type": "stream",
     "text": [
      "393\n"
     ]
    }
   ],
   "source": [
    "def solution(num_list):\n",
    "    a = \"\"\n",
    "    b = \"\"\n",
    "    for i in range(0, len(num_list)) :\n",
    "        if num_list[i] % 2 == 0 :\n",
    "            a += str(num_list[i])\n",
    "        else :\n",
    "            b += str(num_list[i])\n",
    "\n",
    "    return int(a) + int (b)\n",
    "\n",
    "print(solution([3,4,5,2,1]))\n"
   ]
  }
 ],
 "metadata": {
  "kernelspec": {
   "display_name": "Python 3",
   "language": "python",
   "name": "python3"
  },
  "language_info": {
   "codemirror_mode": {
    "name": "ipython",
    "version": 3
   },
   "file_extension": ".py",
   "mimetype": "text/x-python",
   "name": "python",
   "nbconvert_exporter": "python",
   "pygments_lexer": "ipython3",
   "version": "3.11.4"
  }
 },
 "nbformat": 4,
 "nbformat_minor": 5
}
