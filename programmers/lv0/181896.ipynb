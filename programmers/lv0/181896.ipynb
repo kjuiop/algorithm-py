{
 "cells": [
  {
   "cell_type": "markdown",
   "id": "55222c35",
   "metadata": {},
   "source": [
    "### enumerate()\n",
    "\n",
    "- 파이썬에서 리스트를 순회할 때 인덱스(index) 와 값(value) 를 동시에 얻을 수 있게 해주는 내장함수\n",
    "\n",
    "\n",
    "  \t```python\n",
    "\tfor i, v in enumerate(리스트):\n",
    "    ...\n",
    "\n",
    "\t```"
   ]
  },
  {
   "cell_type": "code",
   "execution_count": 7,
   "id": "c38348db",
   "metadata": {},
   "outputs": [
    {
     "name": "stdout",
     "output_type": "stream",
     "text": [
      "5\n",
      "-1\n"
     ]
    }
   ],
   "source": [
    "def solution(num_list):\n",
    "    answer = -1\n",
    "    for i, v in enumerate(num_list):\n",
    "        if v < 0 :\n",
    "            return i\n",
    "    return answer\n",
    "\n",
    "\n",
    "num_list = [12, 4, 15, 46, 38, -2, 15]\n",
    "print(solution(num_list))\n",
    "\n",
    "num_list = [13, 22, 53, 24, 15, 6]\n",
    "print(solution(num_list))\n",
    "\n",
    "\n"
   ]
  }
 ],
 "metadata": {
  "kernelspec": {
   "display_name": "Python 3",
   "language": "python",
   "name": "python3"
  },
  "language_info": {
   "codemirror_mode": {
    "name": "ipython",
    "version": 3
   },
   "file_extension": ".py",
   "mimetype": "text/x-python",
   "name": "python",
   "nbconvert_exporter": "python",
   "pygments_lexer": "ipython3",
   "version": "3.11.4"
  }
 },
 "nbformat": 4,
 "nbformat_minor": 5
}
