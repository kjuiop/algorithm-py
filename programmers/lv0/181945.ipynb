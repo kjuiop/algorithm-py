{
 "cells": [
  {
   "cell_type": "markdown",
   "id": "ca44c6dd",
   "metadata": {},
   "source": [
    "### list()\n",
    "\n",
    "문자열을 문자 단위로 나누고 싶을 때 사용된다.\n",
    "\n",
    "```python\n",
    "list(\"hello\")  # ['h', 'e', 'l', 'l', 'o']\n",
    "```"
   ]
  },
  {
   "cell_type": "code",
   "execution_count": 1,
   "id": "faea12ec",
   "metadata": {},
   "outputs": [
    {
     "name": "stdout",
     "output_type": "stream",
     "text": [
      "a\n",
      "b\n",
      "c\n",
      "d\n",
      "e\n"
     ]
    }
   ],
   "source": [
    "str = input()\n",
    "arrays = list(str)\n",
    "for i in range(len(arrays)) :\n",
    "    print(arrays[i])\n"
   ]
  }
 ],
 "metadata": {
  "kernelspec": {
   "display_name": "Python 3",
   "language": "python",
   "name": "python3"
  },
  "language_info": {
   "codemirror_mode": {
    "name": "ipython",
    "version": 3
   },
   "file_extension": ".py",
   "mimetype": "text/x-python",
   "name": "python",
   "nbconvert_exporter": "python",
   "pygments_lexer": "ipython3",
   "version": "3.11.4"
  }
 },
 "nbformat": 4,
 "nbformat_minor": 5
}
