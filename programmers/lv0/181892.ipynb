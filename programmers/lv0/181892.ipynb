{
 "cells": [
  {
   "cell_type": "markdown",
   "id": "14f6041f",
   "metadata": {},
   "source": [
    "### range(start, stop)"
   ]
  },
  {
   "cell_type": "code",
   "execution_count": 20,
   "id": "18b2a122",
   "metadata": {},
   "outputs": [
    {
     "name": "stdout",
     "output_type": "stream",
     "text": [
      "[6]\n",
      "[6]\n"
     ]
    }
   ],
   "source": [
    "def solution(num_list, n):\n",
    "    answer = []\n",
    "    for v in range(n-1, len(num_list)) :\n",
    "        answer.append(num_list[v])\n",
    "        \n",
    "    return answer\n",
    "\n",
    "\n",
    "def solution2(num_list, n):\n",
    "    return num_list[n-1:]\n",
    "\n",
    "\n",
    "print(solution([2, 1, 6], 3))\n",
    "print(solution2([2, 1, 6], 3))"
   ]
  }
 ],
 "metadata": {
  "kernelspec": {
   "display_name": "Python 3",
   "language": "python",
   "name": "python3"
  },
  "language_info": {
   "codemirror_mode": {
    "name": "ipython",
    "version": 3
   },
   "file_extension": ".py",
   "mimetype": "text/x-python",
   "name": "python",
   "nbconvert_exporter": "python",
   "pygments_lexer": "ipython3",
   "version": "3.11.4"
  }
 },
 "nbformat": 4,
 "nbformat_minor": 5
}
