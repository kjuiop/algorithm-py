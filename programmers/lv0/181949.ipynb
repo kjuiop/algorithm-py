{
 "cells": [
  {
   "cell_type": "markdown",
   "id": "a8a6661a",
   "metadata": {},
   "source": [
    "### swapcase()\n",
    "\n",
    "swapcase() 는 문자열의 대문자는 소문자로, 소문자는 대문자로 변경됨\n",
    "\n",
    "```python\n",
    "s = \"aBcDeFg\"\n",
    "print(s.swapcase())\n",
    "```"
   ]
  },
  {
   "cell_type": "code",
   "execution_count": 8,
   "id": "8c8ab596",
   "metadata": {},
   "outputs": [
    {
     "name": "stdout",
     "output_type": "stream",
     "text": [
      "ASDFqewwqeqw\n"
     ]
    }
   ],
   "source": [
    "str = input()\n",
    "print(str.swapcase())"
   ]
  }
 ],
 "metadata": {
  "kernelspec": {
   "display_name": "Python 3",
   "language": "python",
   "name": "python3"
  },
  "language_info": {
   "codemirror_mode": {
    "name": "ipython",
    "version": 3
   },
   "file_extension": ".py",
   "mimetype": "text/x-python",
   "name": "python",
   "nbconvert_exporter": "python",
   "pygments_lexer": "ipython3",
   "version": "3.11.4"
  }
 },
 "nbformat": 4,
 "nbformat_minor": 5
}
