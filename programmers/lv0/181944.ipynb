{
 "cells": [
  {
   "cell_type": "markdown",
   "id": "1de943d9",
   "metadata": {},
   "source": [
    "### f-string (formatted string literal)\n",
    "\n",
    "- 파이썬에서 문자열 안에 변수를 간단하고 직관적으로 삽입하는 방법\n",
    "\n",
    "    ```python\n",
    "    name = \"Sayali\"\n",
    "    age = 29\n",
    "    print(f\"My name is {name} and I am {age} years old.\")\n",
    "    ```\n"
   ]
  },
  {
   "cell_type": "code",
   "execution_count": 1,
   "id": "4b582275",
   "metadata": {},
   "outputs": [
    {
     "name": "stdout",
     "output_type": "stream",
     "text": [
      "5 is odd\n"
     ]
    }
   ],
   "source": [
    "a = int(input())\n",
    "if a % 2 == 0 :\n",
    "    print(f\"{a} is even\")\n",
    "else :\n",
    "    print(f\"{a} is odd\")"
   ]
  }
 ],
 "metadata": {
  "kernelspec": {
   "display_name": "Python 3",
   "language": "python",
   "name": "python3"
  },
  "language_info": {
   "codemirror_mode": {
    "name": "ipython",
    "version": 3
   },
   "file_extension": ".py",
   "mimetype": "text/x-python",
   "name": "python",
   "nbconvert_exporter": "python",
   "pygments_lexer": "ipython3",
   "version": "3.11.4"
  }
 },
 "nbformat": 4,
 "nbformat_minor": 5
}
