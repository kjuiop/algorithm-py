{
 "cells": [
  {
   "cell_type": "markdown",
   "metadata": {},
   "source": [
    "### 시간 복잡도와 공간 복잡도\n",
    "\n",
    "- 풀이에 대한 시간복잡도를 계산함으로써 시간 초과 여부를 판단할 수 있다.\n",
    "- 풀이에 대한 공간 복잡도를 계산함으로써 메모리 초과 여부를 판단할 수 있다.\n",
    "\n",
    "<br />\n",
    "\n",
    "\n",
    "### 재귀 함수\n",
    "\n",
    "- 조합 알고리즘 / 순열 알고리즘\n",
    "- 병합 정렬 / 퀵 정렬\n",
    "- 이분 탐색 알고리즘\n",
    "- 깊이 우선 탐색 (DFS, Depth-First-Search)\n",
    "\n",
    "\n",
    "<br />\n",
    "\n",
    "### 조합 알고리즘 & 순열 알고리즘\n",
    "\n",
    "- 조합의 모든 경우를 살펴봐야 할 때에는 조합 알고리즘을 사용\n",
    "- 순열의 모든 경우를 살펴봐야 할 때에는 순열 알고리즘을 사용\n",
    "\n",
    "\n",
    "<br />\n",
    "\n",
    "### Tip\n",
    "\n",
    "- 파이썬의 input() 은 속도가 느리다. 아래의 input() 을 사용하면 속도를 높일 수 있다.\n"
   ]
  },
  {
   "cell_type": "code",
   "execution_count": null,
   "metadata": {},
   "outputs": [],
   "source": [
    "\n",
    "import sys\n",
    "input = lambda: sys.stdin.readline().rstrip()"
   ]
  }
 ],
 "metadata": {
  "kernelspec": {
   "display_name": "Python 3",
   "language": "python",
   "name": "python3"
  },
  "language_info": {
   "name": "python",
   "version": "3.10.12"
  }
 },
 "nbformat": 4,
 "nbformat_minor": 2
}
