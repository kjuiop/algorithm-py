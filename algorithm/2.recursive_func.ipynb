{
 "cells": [
  {
   "cell_type": "markdown",
   "metadata": {},
   "source": [
    "### 함수와 재귀함수\n",
    "\n",
    "- 함수란 : 일련의 작업을 수행하는 코드의 블록이며, 이 블록은 재사용이 가능하다는 장점이 있다.\n",
    "\n",
    "\t```python\n",
    "\tfunction(..) {\n",
    "\t\t...\n",
    "\t\t// codes\n",
    "\t\t...\n",
    "\t}\n",
    "\n",
    "\t```\n",
    "\n",
    "\n",
    "- 재귀함수란 : 함수의 일종이며, 재귀함수는 함수 내에서 자기 자신을 호출하는 함수를 의미한다.\n",
    "\n",
    "\t```python\n",
    "\trecursion_function(..) {\n",
    "\t\t...\n",
    "\t\t// codes\n",
    "\t\trecursion_function(..);\n",
    "\t\t...\n",
    "\t}\n",
    "\n",
    "\t```\n",
    "\n"
   ]
  },
  {
   "cell_type": "markdown",
   "metadata": {},
   "source": [
    "### 1부터 N까지 더하는 함수를 만들어보세요."
   ]
  },
  {
   "cell_type": "code",
   "execution_count": 5,
   "metadata": {},
   "outputs": [
    {
     "name": "stdout",
     "output_type": "stream",
     "text": [
      "10\n"
     ]
    }
   ],
   "source": [
    "n = int(input())\n",
    "\n",
    "result = 0\n",
    "for i in range(n):\n",
    "    result += (i+1)\n",
    " \n",
    "print(result)"
   ]
  },
  {
   "cell_type": "code",
   "execution_count": 6,
   "metadata": {},
   "outputs": [
    {
     "name": "stdout",
     "output_type": "stream",
     "text": [
      "15\n"
     ]
    }
   ],
   "source": [
    "n = int(input())\n",
    "\n",
    "def sum_func(n):\n",
    "    if n == 1:\n",
    "        return 1\n",
    "    return sum_func(n-1) + n\n",
    "\n",
    "\n",
    "print(sum_func(n))"
   ]
  },
  {
   "cell_type": "markdown",
   "metadata": {},
   "source": [
    "### 재귀함수의 구조\n",
    "\n",
    "```python\n",
    "def sum_func1(n):\n",
    "\tif n == 1:\n",
    "\t\treturn 1\n",
    "\treturn sum_func1(n - 1) + n\n",
    "\n",
    "def sum_func2(n):\n",
    "\treturn sum_func2(n - 1) + n\n",
    "```\n",
    "\n",
    "- 재귀함수는 자기 자신을 종료하는 부분과 자기 자신을 호출하는 부분으로 나눠져 있습니다.\n",
    "- sum_func1 에서 if 절은 n 이 순차적으로 감소할 때 저 부분에서 종료되는 것을 의미합니다.\n",
    "- sum_func2 에서 return 부분은 자기자신을 호출하는 부분입니다.\n",
    "- 재귀함수를 작성할 때 2가지 부분을 작성한다는 관점으로 생각하면 좋습니다."
   ]
  }
 ],
 "metadata": {
  "kernelspec": {
   "display_name": "Python 3",
   "language": "python",
   "name": "python3"
  },
  "language_info": {
   "codemirror_mode": {
    "name": "ipython",
    "version": 3
   },
   "file_extension": ".py",
   "mimetype": "text/x-python",
   "name": "python",
   "nbconvert_exporter": "python",
   "pygments_lexer": "ipython3",
   "version": "3.10.12"
  }
 },
 "nbformat": 4,
 "nbformat_minor": 2
}
