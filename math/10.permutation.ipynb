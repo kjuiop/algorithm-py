{
 "cells": [
  {
   "cell_type": "markdown",
   "metadata": {},
   "source": [
    "### 순열 공식\n",
    "- n 개 중에서 r 개를 나열하는 경우의 수 공식($_nP_r$)\n",
    "- ⇒ $_nP_r = n \\cdot (n-1) \\ \\cdots \\ (n-r+1)$"
   ]
  }
 ],
 "metadata": {
  "language_info": {
   "name": "python"
  }
 },
 "nbformat": 4,
 "nbformat_minor": 2
}
