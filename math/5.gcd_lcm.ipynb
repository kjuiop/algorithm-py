{
 "cells": [
  {
   "cell_type": "markdown",
   "metadata": {},
   "source": [
    "## 최대 공약수와 최소 공배수\n",
    "\n",
    "### 최대 공약수 (GCD, Greatest Common Divisor)\n",
    "- 어떤 두 수 a, b의 최대 공약수는 a,b의 공약수 중에서 가장 큰 수를 의미한다.\n",
    "  - 예를 들어, 12와 8의 경우에 공약수가 {1,2,4} 이므로 최대 공약수는 4이다.\n",
    "  - 공약수 : 두 수에 대해 공통으로 나누어 떨어지는 수를 의미"
   ]
  },
  {
   "cell_type": "markdown",
   "metadata": {},
   "source": [
    "### a와 b의 최대 공약수를 구하는 법\n",
    "- 시간 복잡도: 약 $O(\\sqrt{max(a, \\ b)})$\n",
    "- $a$와 $b$에 대해 공약수를 구한 후에 그 중에서 가장 큰 값을 구하면 된다.\n",
    "- 유클리드 알고리즘을 이용하면 $O(\\log{(\\small{min(a, \\ b)}}))$에 구할 수 있다."
   ]
  },
  {
   "cell_type": "code",
   "execution_count": 1,
   "metadata": {},
   "outputs": [
    {
     "name": "stdout",
     "output_type": "stream",
     "text": [
      "4\n"
     ]
    }
   ],
   "source": [
    "from math import sqrt\n",
    "\n",
    "def get_divisors(n):\n",
    "\ts = set()\n",
    "\tfor i in range(1, int(sqrt(n)) + 1):\n",
    "\t\tif n % i == 0:\n",
    "\t\t\ts.add(i)\n",
    "\t\t\ts.add(n // i)\n",
    "\treturn s\n",
    "\n",
    "def get_GCD(a, b):\n",
    "\tset_a = get_divisors(a)\n",
    "\tset_b = get_divisors(b)\n",
    "\treturn max(set_a & set_b)\n",
    "\n",
    "print(get_GCD(12, 8))"
   ]
  },
  {
   "cell_type": "markdown",
   "metadata": {},
   "source": [
    "### 최소 공배수 (LCM, Least Common Multiple)\n",
    "- 어떤 두 수 a, b의 최소 공배수는 a,b의 공배수 중에서 가장 작은 수를 의미한다.\n",
    "  - 예를 들어, 12와 8의 경우에 공배수가 {24, 48, 72, ...} 이므로 최소 공배수는 24이다.\n",
    "  - 공배수 : 두 수에 대해 모두 배수인 수를 의미"
   ]
  },
  {
   "cell_type": "markdown",
   "metadata": {},
   "source": [
    "### a와 b의 최소 공배수를 구하는 법\n",
    "- 두 수의 최대 공약수를 $G$, 최소 공배수를 $L$이라고 할 때 아래와 같은 관계를 만족한다.\n",
    "    \n",
    "    > $a \\times b = G \\times L$\n",
    "    > \n",
    "- 즉, $L = \\frac{a \\times b}{G}$ 로 쓸 수 있으니 최대 공약수 $G$를 구하면 최소 공배수 $L$을 구할 수 있다.\n",
    "- 시간 복잡도: `최대 공약수를 구하는 시간 복잡도와 동일`\n"
   ]
  },
  {
   "cell_type": "code",
   "execution_count": 2,
   "metadata": {},
   "outputs": [
    {
     "name": "stdout",
     "output_type": "stream",
     "text": [
      "24\n"
     ]
    }
   ],
   "source": [
    "from math import sqrt\n",
    "\n",
    "def get_divisors(n):\n",
    "\ts = set()\n",
    "\tfor i in range(1, int(sqrt(n)) + 1):\n",
    "\t\tif n % i == 0:\n",
    "\t\t\ts.add(i)\n",
    "\t\t\ts.add(n // i)\n",
    "\treturn s\n",
    "\n",
    "def get_GCD(a, b):\n",
    "\tset_a = get_divisors(a)\n",
    "\tset_b = get_divisors(b)\n",
    "\treturn max(set_a & set_b)\n",
    "\n",
    "def get_LCM(a, b):\n",
    "\treturn (a * b // get_GCD(a, b))\n",
    "\n",
    "print(get_LCM(12, 8))"
   ]
  }
 ],
 "metadata": {
  "kernelspec": {
   "display_name": "Python 3",
   "language": "python",
   "name": "python3"
  },
  "language_info": {
   "codemirror_mode": {
    "name": "ipython",
    "version": 3
   },
   "file_extension": ".py",
   "mimetype": "text/x-python",
   "name": "python",
   "nbconvert_exporter": "python",
   "pygments_lexer": "ipython3",
   "version": "3.11.4"
  }
 },
 "nbformat": 4,
 "nbformat_minor": 2
}
