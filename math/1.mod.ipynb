{
 "cells": [
  {
   "cell_type": "markdown",
   "metadata": {},
   "source": [
    "### 나머지 연산 (Modulo Operation)\n",
    "\n",
    "- 나머지 연산(Modulo Operation) 은 나눗셈의 나머지를 구하는 연산을 의미한다.\n",
    "- 나머지 연산을 표현할 때는 mod 로 표현하면, 프로그래밍 언어에서는 보통 %에 해당한다.\n"
   ]
  },
  {
   "cell_type": "code",
   "execution_count": 1,
   "metadata": {},
   "outputs": [
    {
     "name": "stdout",
     "output_type": "stream",
     "text": [
      "2\n",
      "1\n",
      "0\n"
     ]
    }
   ],
   "source": [
    "print(5 % 3)\n",
    "print(10 % 3)\n",
    "print(10 % 2)"
   ]
  },
  {
   "cell_type": "markdown",
   "metadata": {},
   "source": [
    "- 특징 1 : 합 분해 : (A+B) mod C = (A mod C + B mod C) mod C\n",
    "- 특징 2 : 뺄셈 분해 : (A-B) mod C = (A mod C - B mod C) mod C\n",
    "- 특징 3 : 곱 분해 : (A*B) mod C = ((A mod C) * (B mod C)) mod C"
   ]
  },
  {
   "cell_type": "code",
   "execution_count": 2,
   "metadata": {},
   "outputs": [
    {
     "name": "stdout",
     "output_type": "stream",
     "text": [
      "4 4\n",
      "2 2\n",
      "3 3\n"
     ]
    }
   ],
   "source": [
    "A = 24\n",
    "B = 15\n",
    "C = 7\n",
    "\n",
    "print((A + B) % C, (A % C + B % C) % C) # addition\n",
    "print((A - B) % C, (A % C - B % C) % C) # subtraction\n",
    "print((A * B) % C, ((A % C) * (B % C)) % C) # multiplication"
   ]
  }
 ],
 "metadata": {
  "kernelspec": {
   "display_name": "Python 3",
   "language": "python",
   "name": "python3"
  },
  "language_info": {
   "codemirror_mode": {
    "name": "ipython",
    "version": 3
   },
   "file_extension": ".py",
   "mimetype": "text/x-python",
   "name": "python",
   "nbconvert_exporter": "python",
   "pygments_lexer": "ipython3",
   "version": "3.11.4"
  }
 },
 "nbformat": 4,
 "nbformat_minor": 2
}
