{
 "cells": [
  {
   "cell_type": "markdown",
   "metadata": {},
   "source": [
    "## 소인수분해 알고리즘\n",
    "- 소인수분해는 어떤 수 n을 소수(prime number)의 곱으로만 나타내는 것을 의미한다.\n",
    "- 시간 복잡도: $O(N)$\n",
    "- 어떤 수 $n$을 소인수분해하는 방법은 $2$부터 $n$까지 살펴 보면서 소수로 나누어보면 된다."
   ]
  },
  {
   "cell_type": "code",
   "execution_count": 1,
   "metadata": {},
   "outputs": [
    {
     "name": "stdout",
     "output_type": "stream",
     "text": [
      "[2, 2, 3, 5]\n",
      "[37]\n"
     ]
    }
   ],
   "source": [
    "def get_primes(n):\n",
    "\tprimes = []\n",
    "\tfor i in range(2, n + 1):\n",
    "\t\twhile n % i == 0:\n",
    "\t\t\tprimes.append(i)\n",
    "\t\t\tn //= i\n",
    "\treturn primes\n",
    "\n",
    "print(get_primes(60))\n",
    "print(get_primes(37))"
   ]
  }
 ],
 "metadata": {
  "kernelspec": {
   "display_name": "Python 3",
   "language": "python",
   "name": "python3"
  },
  "language_info": {
   "codemirror_mode": {
    "name": "ipython",
    "version": 3
   },
   "file_extension": ".py",
   "mimetype": "text/x-python",
   "name": "python",
   "nbconvert_exporter": "python",
   "pygments_lexer": "ipython3",
   "version": "3.11.4"
  }
 },
 "nbformat": 4,
 "nbformat_minor": 2
}
