{
 "cells": [
  {
   "cell_type": "markdown",
   "metadata": {},
   "source": [
    "### 소수 (Prime Number)\n",
    "- 소수란 1보다 큰 자연수 중 1과 자기 자신만을 약수로 가지는 수이다.\n",
    "- 즉, 어ㄸ너 수의 약수의 개수가 2개라면 그 수는 소수라고 할 수 있다.\n",
    "- 따라서 어떤 수 n 이 소수인지를 판단하고 싶다면 약수를 구하면 된다."
   ]
  },
  {
   "cell_type": "markdown",
   "metadata": {},
   "source": [
    "- **$n$이 소수인지 아닌지 판단하는 법**\n",
    "    - 시간 복잡도: $O(\\sqrt{n})$\n",
    "    - $n$의 약수를 구하는 과정은 1부터 $\\sqrt{n}$까지 살펴보면 된다.\n",
    "    - $n$의 약수를 구한 후에 개수가 2개인지(1과 자기 자신뿐인지) 확인하면 된다."
   ]
  },
  {
   "cell_type": "code",
   "execution_count": 1,
   "metadata": {},
   "outputs": [
    {
     "name": "stdout",
     "output_type": "stream",
     "text": [
      "True\n",
      "False\n"
     ]
    }
   ],
   "source": [
    "from math import sqrt\n",
    "\n",
    "def get_divisors(n):\n",
    "\ts = set()\n",
    "\tfor i in range(1, int(sqrt(n)) + 1):\n",
    "\t\tif n % i == 0:\n",
    "\t\t\ts.add(i)\n",
    "\t\t\ts.add(n // i)\n",
    "\treturn s\n",
    "\n",
    "def is_prime(n):\n",
    "\treturn (len(get_divisors(n)) == 2)\n",
    "\n",
    "print(is_prime(7))\n",
    "print(is_prime(8))"
   ]
  }
 ],
 "metadata": {
  "kernelspec": {
   "display_name": "Python 3",
   "language": "python",
   "name": "python3"
  },
  "language_info": {
   "codemirror_mode": {
    "name": "ipython",
    "version": 3
   },
   "file_extension": ".py",
   "mimetype": "text/x-python",
   "name": "python",
   "nbconvert_exporter": "python",
   "pygments_lexer": "ipython3",
   "version": "3.11.4"
  }
 },
 "nbformat": 4,
 "nbformat_minor": 2
}
