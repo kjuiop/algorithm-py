{
 "cells": [
  {
   "cell_type": "markdown",
   "metadata": {},
   "source": [
    "### 약수 (Divisor)\n",
    "- 어떤 수 n의 약수는 n을 나누어 떨어지게 하는 수를 의미한다.\n",
    "  - 예를 들어, 12의 약수는 1,2,3,4,6,12 가 존재한다.\n",
    "\n",
    "<br />\n",
    "\n",
    "### n 의 약수를 구하는 법\n",
    "- 시간 복잡도: O(n)\n",
    "- 1부터 n까지의 모든 수를 살펴보며 나누어떨어지는지 확인하면 구할 수 있다.\n"
   ]
  },
  {
   "cell_type": "code",
   "execution_count": 1,
   "metadata": {},
   "outputs": [
    {
     "name": "stdout",
     "output_type": "stream",
     "text": [
      "{1, 2, 3, 4, 6, 12}\n"
     ]
    }
   ],
   "source": [
    "def get_divisors(n):\n",
    "\ts = set()\n",
    "\tfor i in range(1, n + 1):\n",
    "\t\tif n % i == 0:\n",
    "\t\t\ts.add(i)\n",
    "\treturn s\n",
    "\n",
    "print(get_divisors(12))"
   ]
  },
  {
   "cell_type": "markdown",
   "metadata": {},
   "source": [
    "### 더 효율적으로 n의 약수를 구하는 법\n",
    "- 시간 복잡도: O $\\sqrt{n}$\n",
    "- 1부터 $\\sqrt{n}$ 까지의 모든 수를 살펴보며 나누어떨어지는지 확인하면 구할 수 있다.\n",
    "- sqrt{n}까지만 살펴봐도 되는 이유는 a * b = n에서 min(a, b) <=  $\\sqrt{n}$ 이기 때문이다."
   ]
  },
  {
   "cell_type": "code",
   "execution_count": 2,
   "metadata": {},
   "outputs": [
    {
     "name": "stdout",
     "output_type": "stream",
     "text": [
      "{1, 2, 3, 6, 9, 18}\n"
     ]
    }
   ],
   "source": [
    "from math import sqrt\n",
    "\n",
    "def get_divisors(n):\n",
    "\ts = set()\n",
    "\tfor i in range(1, int(sqrt(n)) + 1):\n",
    "\t\tif n % i == 0:\n",
    "\t\t\ts.add(i)\n",
    "\t\t\ts.add(n // i)\n",
    "\treturn s\n",
    "\n",
    "print(get_divisors(18))"
   ]
  }
 ],
 "metadata": {
  "kernelspec": {
   "display_name": "Python 3",
   "language": "python",
   "name": "python3"
  },
  "language_info": {
   "codemirror_mode": {
    "name": "ipython",
    "version": 3
   },
   "file_extension": ".py",
   "mimetype": "text/x-python",
   "name": "python",
   "nbconvert_exporter": "python",
   "pygments_lexer": "ipython3",
   "version": "3.11.4"
  }
 },
 "nbformat": 4,
 "nbformat_minor": 2
}
