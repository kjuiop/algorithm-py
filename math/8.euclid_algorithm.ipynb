{
 "cells": [
  {
   "cell_type": "markdown",
   "metadata": {},
   "source": [
    "## 유클리드 알고리즘\n",
    "- 유클리드 알고리즘은 최대 공약수를 빠르게 구하는 알고리즘\n",
    "- 유클리드 호제법은 반복문 또는 재귀함수로 구현 가능하다.\n",
    "- 시간 복잡도 : $O(logN)$"
   ]
  },
  {
   "cell_type": "markdown",
   "metadata": {},
   "source": [
    "### Example\n",
    "\n",
    "자연수 A, B (A > B) 에 대해 아래의 과정을 반복합니다.\n",
    "- tmp 에 A를 B로 나눈 나머지를 할당합니다.\n",
    "- A 에 B 를 할당합니다.\n",
    "- B 에 tmp 를 할당합니다.\n",
    "- 만약, B 가 0 이면 A 를 최대공약수로 하고 프로그램을 종료합니다.\n",
    "\n",
    "<br />\n",
    "\n",
    "[A=32, B=6 인 경우]\n",
    "\n",
    "step1)\n",
    "- tmp 에 A(32) 를 B(6) 로 나눈 나머지(2)를 할당합니다.\n",
    "- A 에 B(6) 를 할당합니다.\n",
    "- B 에 tmp(2) 를 할당합니다.\n",
    "- B(2) 는 0 이 아니므로 종료하지 않고 step2 로 이어갑니다.\n",
    "\n",
    "\n",
    "<br />\n",
    "\n",
    "step2)\n",
    "- tmp 에 A(6) 를 B(2) 로 나눈 나머지(0)를 할당합니다.\n",
    "- A 에 B(2) 를 할당합니다.\n",
    "- B 에 tmp(0) 를 할당합니다.\n",
    "- B(0) 는 0 이므로 A(2) 를 최대 공약수로 하고 프로그램을 종료합니다.\n",
    "\n",
    "<br />\n",
    "\n",
    "따라서 32와 6의 공약수는 2이다."
   ]
  },
  {
   "cell_type": "code",
   "execution_count": 1,
   "metadata": {},
   "outputs": [
    {
     "name": "stdout",
     "output_type": "stream",
     "text": [
      "4\n"
     ]
    }
   ],
   "source": [
    "def gcd(a, b):\n",
    "    if b == 0:\n",
    "        return a\n",
    "    return gcd(b, a % b)\n",
    "\n",
    "print(gcd(12, 8))"
   ]
  }
 ],
 "metadata": {
  "kernelspec": {
   "display_name": "Python 3",
   "language": "python",
   "name": "python3"
  },
  "language_info": {
   "codemirror_mode": {
    "name": "ipython",
    "version": 3
   },
   "file_extension": ".py",
   "mimetype": "text/x-python",
   "name": "python",
   "nbconvert_exporter": "python",
   "pygments_lexer": "ipython3",
   "version": "3.10.12"
  }
 },
 "nbformat": 4,
 "nbformat_minor": 2
}
