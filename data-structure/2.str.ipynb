{
 "cells": [
  {
   "cell_type": "markdown",
   "metadata": {},
   "source": [
    "### 문자열\n",
    "\n",
    "- 문자열 : 문자의 나열로 이루어진 자료구조\n",
    "- Python 에서 나온 문자열은 str 을 이용하면 된다.\n",
    "\n",
    "<br />\n"
   ]
  },
  {
   "cell_type": "markdown",
   "metadata": {},
   "source": [
    "\n",
    "### 자주 사용하는 연산들 정리\n",
    "\n",
    "- 변수 선언\n",
    "  - 코드 : 변수명 = \"문자열\" , s = \"abc\"\n",
    "\n",
    "- 문자열 연결\n",
    "  - 코드 : s1 + s2 \n",
    "  - 시간복잡도 : O(s1의 길이 + s2의 길이)\n",
    "\n",
    "- 문자열 길이 확인\n",
    "  - 코드 : len(s)\n",
    "  - 시간 복잡도: O(1)\n",
    "\n",
    "- 특정 위치의 문자 접근\n",
    "  - 코드: s[인덱스]\n",
    "  - 시간 복잡도 : O(1)\n",
    "\n",
    "- 문자열 자르기\n",
    "  - 코드: s[시작_인덱스:끝_인덱스]\n",
    "  - 시간 복잡도: O(k) (여기서 k 는 잘라낸 부분 문자열의 길이)\n",
    "\n",
    "- 특정 문자 또는 부분 문자열의 존재 여부 확인\n",
    "  - 코드 : 문자 in s\n",
    "  - 시간 복잡도 : O (s의 길이)"
   ]
  },
  {
   "cell_type": "code",
   "execution_count": 2,
   "metadata": {},
   "outputs": [
    {
     "name": "stdout",
     "output_type": "stream",
     "text": [
      "abcdef\n",
      "\n",
      "연결된 문자열: HelloWorld\n",
      "\n",
      "문자열의 길이: 6\n",
      "\n",
      "인덱스 1의 문자: b\n",
      "\n",
      "자른 부분 문자열: cde\n",
      "\n",
      "True\n",
      "False\n"
     ]
    }
   ],
   "source": [
    "# 문자열 선언\n",
    "s = \"abcdef\"\n",
    "\n",
    "# 문자열 출력\n",
    "print(s)\n",
    "print()\n",
    "\n",
    "# 문자열 연결\n",
    "s1 = \"Hello\"\n",
    "s2 = \"World\"\n",
    "s3 = s1 + s2\n",
    "print(\"연결된 문자열:\", s3)\n",
    "print()\n",
    "\n",
    "# 문자열 길이 확인 \n",
    "print(\"문자열의 길이:\", len(s))\n",
    "print()\n",
    "\n",
    "# 특정 위치의 문자 접근\n",
    "print(\"인덱스 1의 문자:\", s[1])\n",
    "print()\n",
    "\n",
    "# 문자열 자르기\n",
    "print(\"자른 부분 문자열:\", s[2:5])\n",
    "print()\n",
    "\n",
    "# 특정 문자 또는 부분 문자열의 존재 여부 확인\n",
    "print(\"abc\" in \"PPabcPP\")\n",
    "print(\"abc\" in \"PPAbcaPP\")\n"
   ]
  }
 ],
 "metadata": {
  "kernelspec": {
   "display_name": "Python 3",
   "language": "python",
   "name": "python3"
  },
  "language_info": {
   "codemirror_mode": {
    "name": "ipython",
    "version": 3
   },
   "file_extension": ".py",
   "mimetype": "text/x-python",
   "name": "python",
   "nbconvert_exporter": "python",
   "pygments_lexer": "ipython3",
   "version": "3.11.4"
  }
 },
 "nbformat": 4,
 "nbformat_minor": 2
}
