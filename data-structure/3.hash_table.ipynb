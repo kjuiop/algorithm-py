{
 "cells": [
  {
   "cell_type": "markdown",
   "metadata": {},
   "source": [
    "### 해쉬 테이블\n",
    "\n",
    "- 해쉬테이블 : 키(key) 와 값(value) 으로 이루어진 데이터를 저장하는 자료 구조\n",
    "- Python 에서 해시테이블은 dict 를 이용하면 된다.\n",
    "- 해쉬테이블의 두가지 의미\n",
    "  - 키와 값으로 이루어진 자료구조를 의미\n",
    "  - 해쉬(Hash)를 통해서 값을 접근하는 구조를 의미\n",
    "\n",
    "<br/>\n",
    "\n",
    "### 자주 사용하는 연산들 정리 \n",
    "- 선언하는 코드 : 변수명 = {} 또는 변수명 = dict()\n",
    "  - ex) dt = {} 또는 dt = dict()\n",
    "- 특정 키에 대한 값 할당\n",
    "  - 코드 : dt[키] = 값\n",
    "  - 시간 복잡도: O(c)\n",
    "- 특정 키의 값 조회\n",
    "  - 코드 : dt[키]\n",
    "  - 시간 복잡도 : O(c)\n",
    "- 특정 키의 값 삭제\n",
    "  - 코드 : del dt[키]\n",
    "  - 시간 복잡도: O(c)\n",
    "- 딕셔너리의 크기 확인\n",
    "  - 코드: len(딕셔너리)\n",
    "  - 시간 복잡도: O(1)\n",
    "- 특정 키의 존재 여부 확인\n",
    "  - 키 in dt\n",
    "  - 시간 복잡도: O(c)"
   ]
  },
  {
   "cell_type": "code",
   "execution_count": 3,
   "metadata": {},
   "outputs": [
    {
     "name": "stdout",
     "output_type": "stream",
     "text": [
      "딕셔너리: {'apple': 500, 'banana': 1000, 'cherry': 700}\n",
      "\n",
      "banana의 값: 1000\n",
      "\n",
      "cherry 삭제 후 딕셔너리: {'apple': 500, 'banana': 1000}\n",
      "\n",
      "딕셔너리의 크기: 2\n",
      "\n",
      "True\n",
      "False\n",
      "False\n"
     ]
    }
   ],
   "source": [
    "# 해시 테이블 선언\n",
    "dt = {}\n",
    "\n",
    "# 특정 키에 대한 값 할당\n",
    "dt[\"apple\"]  = 500\n",
    "dt[\"banana\"] = 1000\n",
    "dt[\"cherry\"] = 700\n",
    "\n",
    "# 딕셔너리 출력\n",
    "print(\"딕셔너리:\", dt)\n",
    "print()\n",
    "\n",
    "# 특정 키의 값 조회\n",
    "print(\"banana의 값:\", dt[\"banana\"])\n",
    "print()\n",
    "\n",
    "# 특정 키의 값 삭제\n",
    "del dt[\"cherry\"]\n",
    "print(\"cherry 삭제 후 딕셔너리:\", dt)\n",
    "print()\n",
    "\n",
    "# 딕셔너리의 크기 확인\n",
    "print(\"딕셔너리의 크기:\", len(dt))\n",
    "print()\n",
    "\n",
    "# 특정 키의 존재 여부 확인\n",
    "print(\"apple\" in dt)\n",
    "print(\"pineapple\" in dt)\n",
    "print(142 in dt)\n"
   ]
  }
 ],
 "metadata": {
  "kernelspec": {
   "display_name": "Python 3",
   "language": "python",
   "name": "python3"
  },
  "language_info": {
   "codemirror_mode": {
    "name": "ipython",
    "version": 3
   },
   "file_extension": ".py",
   "mimetype": "text/x-python",
   "name": "python",
   "nbconvert_exporter": "python",
   "pygments_lexer": "ipython3",
   "version": "3.11.4"
  }
 },
 "nbformat": 4,
 "nbformat_minor": 2
}
