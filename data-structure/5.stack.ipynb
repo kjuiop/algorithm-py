{
 "cells": [
  {
   "cell_type": "markdown",
   "metadata": {},
   "source": [
    "### 스택\n",
    "- 스택: 데이터를 후입선출(LIFO, Last-In-First-Out)의 원칙에 관리하는 선형 자료 구조\n",
    "- Python 에서 스택은 deque 를 이용하면 된다.\n",
    "\n",
    "\n",
    "<br />\n",
    "\n",
    "### 자주 사용하는 연산 정리\n",
    "- from collections import deque\n",
    "\n",
    "- 선언하는 코드: `변수명 = deque()`\n",
    "    - ex) `st = deque()`\n",
    "- 맨 위(뒤)에 원소 추가\n",
    "    - 코드: `st.append(값)`\n",
    "    - 시간 복잡도: `$O(1)$`\n",
    "- 맨 위(뒤)의 원소 제거\n",
    "    - 코드: `st.pop()`\n",
    "    - 시간 복잡도: `$O(1)$`\n",
    "- 맨 위(뒤)의 원소 확인\n",
    "    - 코드: `st[-1]`\n",
    "    - 시간 복잡도: **`$O(1)$`**\n",
    "- 스택의 크기 확인\n",
    "    - 코드: `len(stack)`\n",
    "    - 시간 복잡도: **`$O(1)$`**\n",
    "- 스택이 비어 있는지 확인\n",
    "    - 코드: `not stack` 또는 `len(stack) == 0`\n",
    "    - 시간 복잡도: **`$O(1)$`**"
   ]
  },
  {
   "cell_type": "code",
   "execution_count": 1,
   "metadata": {},
   "outputs": [
    {
     "name": "stdout",
     "output_type": "stream",
     "text": [
      "스택: deque([10, 20, 30])\n",
      "\n",
      "삭제된 원소: 30\n",
      "삭제 후 스택: deque([10, 20])\n",
      "\n",
      "맨 위(뒤)의 원소: 20\n",
      "현재 스택: deque([10, 20])\n",
      "\n",
      "스택의 크기: 2\n",
      "\n",
      "스택이 비어 있는지 확인: False\n",
      "\n",
      "20 10 "
     ]
    }
   ],
   "source": [
    "from collections import deque\n",
    "\n",
    "# 스택 선언\n",
    "st = deque()\n",
    "\n",
    "# 맨 위(뒤)에 원소 추가\n",
    "st.append(10)\n",
    "st.append(20)\n",
    "st.append(30)\n",
    "\n",
    "# 스택 출력\n",
    "print(\"스택:\", st)\n",
    "print()\n",
    "\n",
    "# 맨 위(뒤)의 원소 제거\n",
    "removed_element = st.pop()\n",
    "print(\"삭제된 원소:\", removed_element)\n",
    "print(\"삭제 후 스택:\", st)\n",
    "print()\n",
    "\n",
    "# 맨 위(뒤)의 원소 확인\n",
    "top_element = st[-1]\n",
    "print(\"맨 위(뒤)의 원소:\", top_element)\n",
    "print(\"현재 스택:\", st)\n",
    "print()\n",
    "\n",
    "# 스택의 크기 확인\n",
    "print(\"스택의 크기:\", len(st))\n",
    "print()\n",
    "\n",
    "# 스택이 비어 있는지 확인\n",
    "print(\"스택이 비어 있는지 확인:\", not st)\n",
    "print()\n",
    "\n",
    "# 스택 순회\n",
    "while st:\n",
    "    print(st.pop(), end=' ')"
   ]
  }
 ],
 "metadata": {
  "kernelspec": {
   "display_name": "Python 3",
   "language": "python",
   "name": "python3"
  },
  "language_info": {
   "codemirror_mode": {
    "name": "ipython",
    "version": 3
   },
   "file_extension": ".py",
   "mimetype": "text/x-python",
   "name": "python",
   "nbconvert_exporter": "python",
   "pygments_lexer": "ipython3",
   "version": "3.11.4"
  }
 },
 "nbformat": 4,
 "nbformat_minor": 2
}
