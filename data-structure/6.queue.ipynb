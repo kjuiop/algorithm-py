{
 "cells": [
  {
   "cell_type": "markdown",
   "metadata": {},
   "source": [
    "### 큐\n",
    "- 큐 : 데이터를 선입선출(FIFO, First-In-First-Out) 의 원칙에 관리하는 선형 자료 구조\n",
    "- Python 에서 큐는 deque 를 이용하면 된다.\n",
    "- 파이썬의 list 는 맨 앞의 원소를 제거 가능하기 때문에 list 를 이용하여 queue 를 구현할 수도 있다.\n",
    "- 하지만 맨 앞의 원소를 제거하는 연산은 deque 가 더 빠르기 때문에 deque 를 쓰는 것을 추천\n",
    "\n",
    "<br />\n",
    "\n",
    "### 자주 사용하는 연산들 정리\n",
    "- from collections import deque\n",
    "\n",
    "- 선언하는 코드: `변수명 = deque()`\n",
    "    - ex) `q = deque()`\n",
    "- (맨 뒤에) 원소 삽입\n",
    "    - 코드: `q.append(값)`\n",
    "    - 시간 복잡도: `O(1)`\n",
    "- 맨 앞의 원소 삭제\n",
    "    - 코드: `q.popleft()`\n",
    "    - 시간 복잡도: `O(1)`\n",
    "- 맨 앞의 원소 확인\n",
    "    - 코드: `q[0]`\n",
    "    - 시간 복잡도: `O(1)`\n",
    "- 큐의 크기 확인\n",
    "    - 코드: `len(q)`\n",
    "    - 시간 복잡도: `O(1)`\n",
    "- 특정 값의 존재 여부 확인\n",
    "    - 코드: `값 in q`\n",
    "    - 시간 복잡도: **`O(n)`** (순회하며 값을 찾아야 함)"
   ]
  },
  {
   "cell_type": "code",
   "execution_count": 1,
   "metadata": {},
   "outputs": [
    {
     "name": "stdout",
     "output_type": "stream",
     "text": [
      "큐: deque([10, 20, 30])\n",
      "\n",
      "삭제된 원소: 10\n",
      "삭제 후 큐: deque([20, 30])\n",
      "\n",
      "맨 앞의 원소: 20\n",
      "현재 큐: deque([20, 30])\n",
      "\n",
      "큐의 크기: 2\n",
      "\n",
      "False\n",
      "True\n",
      "\n",
      "20 30 "
     ]
    }
   ],
   "source": [
    "from collections import deque\n",
    "\n",
    "# 큐 선언\n",
    "q = deque()\n",
    "\n",
    "# 맨 뒤에 원소 삽입\n",
    "q.append(10)\n",
    "q.append(20)\n",
    "q.append(30)\n",
    "\n",
    "# 큐 출력\n",
    "print(\"큐:\", q)\n",
    "print()\n",
    "\n",
    "# 맨 앞의 원소 삭제\n",
    "removed_element = q.popleft()\n",
    "print(\"삭제된 원소:\", removed_element)\n",
    "print(\"삭제 후 큐:\", q)\n",
    "print()\n",
    "\n",
    "# 맨 앞의 원소 확인\n",
    "front_element = q[0]\n",
    "print(\"맨 앞의 원소:\", front_element)\n",
    "print(\"현재 큐:\", q)\n",
    "print()\n",
    "\n",
    "# 큐의 크기 확인\n",
    "print(\"큐의 크기:\", len(q))\n",
    "print()\n",
    "\n",
    "# 특정 값의 존재 여부 확인\n",
    "print(10 in q)\n",
    "print(20 in q)\n",
    "print()\n",
    "\n",
    "# 큐 순회\n",
    "while q:\n",
    "    print(q.popleft(), end=' ')"
   ]
  }
 ],
 "metadata": {
  "kernelspec": {
   "display_name": "Python 3",
   "language": "python",
   "name": "python3"
  },
  "language_info": {
   "codemirror_mode": {
    "name": "ipython",
    "version": 3
   },
   "file_extension": ".py",
   "mimetype": "text/x-python",
   "name": "python",
   "nbconvert_exporter": "python",
   "pygments_lexer": "ipython3",
   "version": "3.11.4"
  }
 },
 "nbformat": 4,
 "nbformat_minor": 2
}
