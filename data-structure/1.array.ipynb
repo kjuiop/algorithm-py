{
 "cells": [
  {
   "cell_type": "markdown",
   "metadata": {},
   "source": [
    "### 배열\n",
    "- 배열: 동일한 데이터 타입의 원소들이 순서대로 저장된 선형 자료 구조\n",
    "- Python 에서 배열은 list 를 이용하면 된다.\n",
    "\n",
    "<br />\n",
    "\n",
    "### 자주 사용하는 연산들 정리\n",
    "\n",
    "- 변수 선언\n",
    "  - 코드 : 변수명 = [] , lst = []\n",
    "\n",
    "- 맨 뒤에 원소 삽입\n",
    "  - 코드 : lst.append(값) \n",
    "  - 시간복잡도 : O(1)\n",
    "\n",
    "- 원소 삭제\n",
    "  - 코드 : lst.pop(인덱스)\n",
    "  - 시간 복잡도: O(n) (단, 맨 뒤의 원소를 삭제할 때는 O(1) 만에 처리 가능)\n",
    "\n",
    "- 특정 위치의 원소 접근\n",
    "  - 코드: lst[인덱스]\n",
    "  - 시간 복잡도 : O(1)\n",
    "\n",
    "- 리스트의 크기 확인\n",
    "  - 코드: len(lst)\n",
    "  - 시간 복잡도: O(1)\n",
    "\n",
    "- 특정 값의 존재 여부 확인\n",
    "  - 코드 : 값 in lst\n",
    "  - 시간 복잡도 : O(n) (리스트를 순회하며 값을 찾아야 함)"
   ]
  },
  {
   "cell_type": "code",
   "execution_count": 6,
   "metadata": {},
   "outputs": [
    {
     "name": "stdout",
     "output_type": "stream",
     "text": [
      "리스트: [100, 200, 10, 20, 30]\n",
      "\n",
      "삭제된 원소: 10\n",
      "삭제 후 리스트: [100, 200, 20, 30]\n",
      "\n",
      "인덱스 1의 원소: 200\n",
      "\n",
      "리스트의 크기: 4\n",
      "\n",
      "True\n",
      "False\n"
     ]
    }
   ],
   "source": [
    "# 리스트 선언\n",
    "lst = [100, 200]\n",
    "\n",
    "# 맨 뒤에 원소 삽입\n",
    "lst.append(10)\n",
    "lst.append(20)\n",
    "lst.append(30)\n",
    "\n",
    "# 리스트 출력\n",
    "print(\"리스트:\", lst)\n",
    "print()\n",
    "\n",
    "# 원소 삭제\n",
    "deleted_value = lst.pop(2)\n",
    "print(\"삭제된 원소:\", deleted_value)\n",
    "print(\"삭제 후 리스트:\", lst)\n",
    "print()\n",
    "\n",
    "# 특정 위치의 원소 접근\n",
    "print(\"인덱스 1의 원소:\", lst[1])\n",
    "print()\n",
    "\n",
    "# 리스트의 크기확인\n",
    "print(\"리스트의 크기:\", len(lst))\n",
    "print()\n",
    "\n",
    "# 특정 값의 존재 여부 확인\n",
    "value1 = 20\n",
    "print(value1 in lst)\n",
    "value2 = 40\n",
    "print(value2 in lst)\n"
   ]
  }
 ],
 "metadata": {
  "kernelspec": {
   "display_name": "Python 3",
   "language": "python",
   "name": "python3"
  },
  "language_info": {
   "codemirror_mode": {
    "name": "ipython",
    "version": 3
   },
   "file_extension": ".py",
   "mimetype": "text/x-python",
   "name": "python",
   "nbconvert_exporter": "python",
   "pygments_lexer": "ipython3",
   "version": "3.11.4"
  }
 },
 "nbformat": 4,
 "nbformat_minor": 2
}
