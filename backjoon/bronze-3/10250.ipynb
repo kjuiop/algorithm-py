{
 "cells": [
  {
   "cell_type": "markdown",
   "metadata": {},
   "source": [
    "### 문제풀이\n",
    "\n",
    "- 호텔 정문으로부터 걷는 거리가 가장 짧도록 방을 배정하는 프로그램 작성\n",
    "\n",
    "- 호텔은 직사각형 모양이며, 각 층에 W 개의 방이 있는 H 층 건물\n",
    "\n",
    "- 방의 갯수는 H * W\n",
    "\n",
    "- 엘레베이터는 가장 왼쪽에 있다고 가정\n",
    "\n",
    "- 호텔 정문은 일층 엘리베이터 바로 앞에 있다.\n",
    "\n",
    "- 정문에서 엘리베이터까지의 거리는 무시한다.\n",
    "\n",
    "- 모든 인접한 두 방 사이의 거리는 같은 거리(1) 이라고 가정하고, 호텔의 정면 쪽에만 방이 있다고 가정한다.\n",
    "\n",
    "- 거리가 같을 때에는 아래층의 방을 더 선호한다.\n",
    "\n"
   ]
  },
  {
   "cell_type": "markdown",
   "metadata": {},
   "source": [
    "### input\n",
    "\n",
    "```\n",
    "2\n",
    "6 12 10\n",
    "30 50 72\n",
    "```\n",
    "\n",
    "### output\n",
    "\n",
    "```\n",
    "402\n",
    "1203\n",
    "```"
   ]
  },
  {
   "cell_type": "code",
   "execution_count": null,
   "metadata": {},
   "outputs": [
    {
     "name": "stdout",
     "output_type": "stream",
     "text": [
      "402\n",
      "1203\n"
     ]
    }
   ],
   "source": [
    "n = int(input())\n",
    "inputs = []\n",
    "\n",
    "for i in range(n) :\n",
    "    inputs.append(input().split())\n",
    "\n",
    "for numbers in inputs:\n",
    "    h, w, n = map(int, numbers)\n",
    "    x = int((n / h) + 1)\n",
    "    y = n % ((x-1) * h)\n",
    "    print(str(y) + \"0\" + str(x))\n"
   ]
  },
  {
   "cell_type": "markdown",
   "metadata": {},
   "source": [
    "### 아쉬운점\n",
    "\n",
    "- ```y = n % ((x-1) * h)``` 에서 h 를 곱할 필요가 없었다.\n",
    "\n",
    "- n 과 h 의 나머지를 구하면 되는데, 굳이 h 에 몫을 곱한 다음에 나머지를 구하려 했었다.\n",
    "\n",
    "- 나머지를 구할 때에는 몫을 곱할 필요가 없다.\n",
    "\n",
    "- 단순히 정수로 맞아떨어질 때에 대한 예외 케이스에 대한 고려가 부족했다."
   ]
  },
  {
   "cell_type": "code",
   "execution_count": null,
   "metadata": {},
   "outputs": [
    {
     "name": "stdout",
     "output_type": "stream",
     "text": [
      "402\n",
      "1203\n"
     ]
    }
   ],
   "source": [
    "n = int(input())\n",
    "inputs = []\n",
    "\n",
    "for i in range(n):\n",
    "    inputs.append(input().split())\n",
    "\n",
    "for numbers in inputs:\n",
    "    h, w, n = map(int, numbers)\n",
    "    if n % h != 0:\n",
    "        y = n % h\n",
    "        ## 몫만 계산하는 법\n",
    "        ## 정수로 나눠떨어지지 않으면 + 1\n",
    "        x = (n // h) + 1\n",
    "    else: \n",
    "        y = h\n",
    "        ## 몫만 계산하는 법\n",
    "        ## 정수로 나눠 떨어지면 그냥 몫의 숫자만\n",
    "        x = (n // h)\n",
    "\n",
    "    print(f\"{y}{x:02d}\")\n"
   ]
  },
  {
   "cell_type": "markdown",
   "metadata": {},
   "source": [
    "### 알게된 점\n",
    "\n",
    "- ```n // h``` 는 몫에 대한 정수부분만 구할 수 있다. -> 굳이 int 로 변환 안시켜도 됨\n",
    "\n",
    "- 몫을 구하고자 할 때에는 맞아 떨어지는 정수가 되는 경우에는 어떻게 대처할 지 생각해보자.\n",
    "\n",
    "\n",
    "<br />\n",
    "\n",
    "### print(f\"{y}{x:02d}\")\n",
    "\n",
    "- f 문자열: 문자열 앞에 f를 붙이면, 중괄호 {} 안에 변수나 표현식을 사용할 수 있습니다.\n",
    "\n",
    "  ```f\"{y}{x:02d}\"```는 y와 x의 값을 문자열로 조합하여 출력합니다.\n",
    "  \n",
    "\n",
    "- {y}: y는 그대로 출력됩니다.\n",
    "  별도의 포맷팅 없이 값을 문자열로 변환합니다.\n",
    "  \n",
    "\n",
    "- {x:02d}: x를 정수로 출력(d)하면서, 최소 2자리로 표현하고, 부족한 자리는 0으로 채웁니다."
   ]
  }
 ],
 "metadata": {
  "kernelspec": {
   "display_name": "Python 3",
   "language": "python",
   "name": "python3"
  },
  "language_info": {
   "codemirror_mode": {
    "name": "ipython",
    "version": 3
   },
   "file_extension": ".py",
   "mimetype": "text/x-python",
   "name": "python",
   "nbconvert_exporter": "python",
   "pygments_lexer": "ipython3",
   "version": "3.11.4"
  }
 },
 "nbformat": 4,
 "nbformat_minor": 2
}
