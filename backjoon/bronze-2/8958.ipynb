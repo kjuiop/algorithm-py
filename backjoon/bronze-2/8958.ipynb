{
 "cells": [
  {
   "cell_type": "markdown",
   "metadata": {},
   "source": [
    "### OX 퀴즈\n",
    "\n",
    "- 첫째줄에는 테스트케이스의 갯수가 주어진다.\n",
    "\n",
    "- 둘째줄부터는 OX 에 대한 답안지가 각 줄마다 입력된다."
   ]
  },
  {
   "cell_type": "code",
   "execution_count": null,
   "metadata": {},
   "outputs": [
    {
     "name": "stdout",
     "output_type": "stream",
     "text": [
      "30\n"
     ]
    }
   ],
   "source": [
    "a = int(input())\n",
    "inputs = []\n",
    "\n",
    "for _ in range(a):  # 변수 s를 사용하지 않으므로 _로 대체\n",
    "    b = input()\n",
    "    inputs.append(b)\n",
    "\n",
    "for str in inputs:  # inputs는 리스트이므로 range를 사용할 필요 없음\n",
    "    chars = list(str)\n",
    "    result = 0\n",
    "    b = 0\n",
    "    for char in chars:\n",
    "        if char == 'O' :\n",
    "            b = b + 1\n",
    "            result += b\n",
    "        else :\n",
    "            b = 0\n",
    "    print(result)\n"
   ]
  }
 ],
 "metadata": {
  "kernelspec": {
   "display_name": "Python 3",
   "language": "python",
   "name": "python3"
  },
  "language_info": {
   "codemirror_mode": {
    "name": "ipython",
    "version": 3
   },
   "file_extension": ".py",
   "mimetype": "text/x-python",
   "name": "python",
   "nbconvert_exporter": "python",
   "pygments_lexer": "ipython3",
   "version": "3.11.4"
  }
 },
 "nbformat": 4,
 "nbformat_minor": 2
}
