{
 "cells": [
  {
   "cell_type": "code",
   "execution_count": 4,
   "metadata": {},
   "outputs": [
    {
     "name": "stdout",
     "output_type": "stream",
     "text": [
      "5\n"
     ]
    }
   ],
   "source": [
    "a = int(input())\n",
    "\n",
    "inputs = []\n",
    "for _ in range(a):\n",
    "    numbers = input().split()\n",
    "    a, b = map(int, numbers)\n",
    "    print(a+b)\n"
   ]
  },
  {
   "cell_type": "markdown",
   "metadata": {},
   "source": [
    "### python 용법\n",
    "\n",
    "- python 에서는 input() 만으로 쉽게 입력을 받을 수 있다.\n",
    "\n",
    "- numbers = input().split() 으로 띄어쓰기 문자열을 배열로 받을 수 있다.\n",
    "\n",
    "- a, b = map(int, numbers) 로 각각의 split 된 요소들을 꺼내쓸 수 있다."
   ]
  }
 ],
 "metadata": {
  "kernelspec": {
   "display_name": "Python 3",
   "language": "python",
   "name": "python3"
  },
  "language_info": {
   "codemirror_mode": {
    "name": "ipython",
    "version": 3
   },
   "file_extension": ".py",
   "mimetype": "text/x-python",
   "name": "python",
   "nbconvert_exporter": "python",
   "pygments_lexer": "ipython3",
   "version": "3.11.4"
  }
 },
 "nbformat": 4,
 "nbformat_minor": 2
}
