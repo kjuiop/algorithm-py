{
 "cells": [
  {
   "cell_type": "code",
   "execution_count": 5,
   "metadata": {},
   "outputs": [
    {
     "name": "stdout",
     "output_type": "stream",
     "text": [
      "1\n"
     ]
    }
   ],
   "source": [
    "numbers = input().split()\n",
    "\n",
    "result = 0\n",
    "for i in numbers:\n",
    "    result += int(i)*int(i)\n",
    "\n",
    "print(result%10)"
   ]
  },
  {
   "cell_type": "markdown",
   "metadata": {},
   "source": [
    "### 참고\n",
    "\n",
    "- 문자열 자체를 for 문으로 돌리면 각 요소들을 뽑아낼 수 있기 때문에 각 요솔르 int 로 변환하여 직접 계산하였다.\n",
    "- 아래는 map 으로 int 를 적용시킨 후 계산하는 방식으로 하였다."
   ]
  },
  {
   "cell_type": "code",
   "execution_count": null,
   "metadata": {},
   "outputs": [
    {
     "name": "stdout",
     "output_type": "stream",
     "text": [
      "1\n"
     ]
    }
   ],
   "source": [
    "numbers = input().split()\n",
    "\n",
    "result = 0\n",
    "for i in map(int, numbers):\n",
    "    result += i*i\n",
    "\n",
    "print(result % 10)"
   ]
  }
 ],
 "metadata": {
  "kernelspec": {
   "display_name": "Python 3",
   "language": "python",
   "name": "python3"
  },
  "language_info": {
   "codemirror_mode": {
    "name": "ipython",
    "version": 3
   },
   "file_extension": ".py",
   "mimetype": "text/x-python",
   "name": "python",
   "nbconvert_exporter": "python",
   "pygments_lexer": "ipython3",
   "version": "3.11.4"
  }
 },
 "nbformat": 4,
 "nbformat_minor": 2
}
