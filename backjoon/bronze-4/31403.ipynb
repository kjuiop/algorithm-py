{
 "cells": [
  {
   "cell_type": "markdown",
   "metadata": {},
   "source": [
    "### 문제\n",
    "\n",
    "- 문자열에 대해 +, - 연산을 수행하는 함수를 작성\n"
   ]
  },
  {
   "cell_type": "code",
   "execution_count": 6,
   "metadata": {},
   "outputs": [
    {
     "name": "stdout",
     "output_type": "stream",
     "text": [
      "2\n",
      "29\n"
     ]
    }
   ],
   "source": [
    "inputs = []\n",
    "for s in range(3):\n",
    "    inputs.append(input())\n",
    "\n",
    "a,b,c = map(int, inputs)\n",
    "print(a + b - c)\n",
    "\n",
    "d = str(a) + str(b)\n",
    "print(int(d) - c)"
   ]
  },
  {
   "cell_type": "markdown",
   "metadata": {},
   "source": [
    "### pyhton 문자열로 변환\n",
    "\n",
    "- ```str(a)``` 로 정수를 문자열로 변환 가능\n",
    "- ```int(a)``` 로 문자를 정수로 변환 가능"
   ]
  }
 ],
 "metadata": {
  "kernelspec": {
   "display_name": "Python 3",
   "language": "python",
   "name": "python3"
  },
  "language_info": {
   "codemirror_mode": {
    "name": "ipython",
    "version": 3
   },
   "file_extension": ".py",
   "mimetype": "text/x-python",
   "name": "python",
   "nbconvert_exporter": "python",
   "pygments_lexer": "ipython3",
   "version": "3.11.4"
  }
 },
 "nbformat": 4,
 "nbformat_minor": 2
}
