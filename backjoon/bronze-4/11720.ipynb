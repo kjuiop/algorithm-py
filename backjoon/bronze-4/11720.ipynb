{
 "cells": [
  {
   "cell_type": "code",
   "execution_count": null,
   "metadata": {},
   "outputs": [
    {
     "name": "stdout",
     "output_type": "stream",
     "text": [
      "12345\n",
      "15\n"
     ]
    }
   ],
   "source": [
    "a = int(input())\n",
    "b = input()\n",
    "\n",
    "result = 0\n",
    "for c in b:\n",
    "    result += int(c)\n",
    "\n",
    "print(result)"
   ]
  },
  {
   "cell_type": "markdown",
   "metadata": {},
   "source": [
    "### 참고\n",
    "\n",
    "- 문자열을 반복문으로 돌리면 각 요소들로 나온다."
   ]
  },
  {
   "cell_type": "code",
   "execution_count": null,
   "metadata": {},
   "outputs": [
    {
     "name": "stdout",
     "output_type": "stream",
     "text": [
      "15\n"
     ]
    }
   ],
   "source": [
    "a = int(input(\"숫자의 자릿수를 입력하세요: \"))\n",
    "b = input(\"숫자를 입력하세요: \")\n",
    "\n",
    "result = sum(map(int, b))\n",
    "print(result)"
   ]
  },
  {
   "cell_type": "markdown",
   "metadata": {},
   "source": [
    "\n",
    "- ```sum(iterable, start)```\n",
    "\n",
    "  - sum 은 iterable , 반복 가능한 객체를 인자로 받는다.\n",
    "\n",
    "  - start 는 연산이 시작되는 위치값으로 optional 이다.\n",
    "\n",
    "<br />\n",
    "\n",
    "- ```map(int,b)``` 는 반복 가능한 객체이다."
   ]
  }
 ],
 "metadata": {
  "kernelspec": {
   "display_name": "Python 3",
   "language": "python",
   "name": "python3"
  },
  "language_info": {
   "codemirror_mode": {
    "name": "ipython",
    "version": 3
   },
   "file_extension": ".py",
   "mimetype": "text/x-python",
   "name": "python",
   "nbconvert_exporter": "python",
   "pygments_lexer": "ipython3",
   "version": "3.11.4"
  }
 },
 "nbformat": 4,
 "nbformat_minor": 2
}
